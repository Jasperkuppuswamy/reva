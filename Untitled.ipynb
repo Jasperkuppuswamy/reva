{
 "cells": [
  {
   "cell_type": "code",
   "execution_count": 1,
   "id": "3c1f10d6-6b82-479e-9a6a-0a82d2a6e1a3",
   "metadata": {},
   "outputs": [
    {
     "name": "stdout",
     "output_type": "stream",
     "text": [
      "Requirement already satisfied: nltk in c:\\users\\revan\\anaconda3\\lib\\site-packages (3.6.1)\n",
      "Requirement already satisfied: joblib in c:\\users\\revan\\anaconda3\\lib\\site-packages (from nltk) (1.0.1)\n",
      "Requirement already satisfied: tqdm in c:\\users\\revan\\anaconda3\\lib\\site-packages (from nltk) (4.59.0)\n",
      "Requirement already satisfied: regex in c:\\users\\revan\\anaconda3\\lib\\site-packages (from nltk) (2021.4.4)\n",
      "Requirement already satisfied: click in c:\\users\\revan\\anaconda3\\lib\\site-packages (from nltk) (7.1.2)\n",
      "Note: you may need to restart the kernel to use updated packages.\n"
     ]
    }
   ],
   "source": [
    "pip install nltk\n"
   ]
  },
  {
   "cell_type": "code",
   "execution_count": 3,
   "id": "1c24fa9d-ead3-41af-82d9-5e087e1851b4",
   "metadata": {},
   "outputs": [
    {
     "name": "stdout",
     "output_type": "stream",
     "text": [
      "Collecting pickle5\n",
      "  Downloading pickle5-0.0.11.tar.gz (132 kB)\n",
      "Building wheels for collected packages: pickle5\n",
      "  Building wheel for pickle5 (setup.py): started\n",
      "  Building wheel for pickle5 (setup.py): finished with status 'error'\n",
      "  Running setup.py clean for pickle5\n",
      "Failed to build pickle5\n",
      "Installing collected packages: pickle5\n",
      "    Running setup.py install for pickle5: started\n",
      "    Running setup.py install for pickle5: finished with status 'error'\n",
      "Note: you may need to restart the kernel to use updated packages.\n"
     ]
    },
    {
     "name": "stderr",
     "output_type": "stream",
     "text": [
      "  ERROR: Command errored out with exit status 1:\n",
      "   command: 'C:\\Users\\revan\\anaconda3\\python.exe' -u -c 'import sys, setuptools, tokenize; sys.argv[0] = '\"'\"'C:\\\\Users\\\\revan\\\\AppData\\\\Local\\\\Temp\\\\pip-install-yjbzrbnk\\\\pickle5_fb2e3d2a195442a2bd006e4885be4b97\\\\setup.py'\"'\"'; __file__='\"'\"'C:\\\\Users\\\\revan\\\\AppData\\\\Local\\\\Temp\\\\pip-install-yjbzrbnk\\\\pickle5_fb2e3d2a195442a2bd006e4885be4b97\\\\setup.py'\"'\"';f=getattr(tokenize, '\"'\"'open'\"'\"', open)(__file__);code=f.read().replace('\"'\"'\\r\\n'\"'\"', '\"'\"'\\n'\"'\"');f.close();exec(compile(code, __file__, '\"'\"'exec'\"'\"'))' bdist_wheel -d 'C:\\Users\\revan\\AppData\\Local\\Temp\\pip-wheel-2sznx9c9'\n",
      "       cwd: C:\\Users\\revan\\AppData\\Local\\Temp\\pip-install-yjbzrbnk\\pickle5_fb2e3d2a195442a2bd006e4885be4b97\\\n",
      "  Complete output (17 lines):\n",
      "  running bdist_wheel\n",
      "  running build\n",
      "  running build_py\n",
      "  creating build\n",
      "  creating build\\lib.win-amd64-3.8\n",
      "  creating build\\lib.win-amd64-3.8\\pickle5\n",
      "  copying pickle5\\pickle.py -> build\\lib.win-amd64-3.8\\pickle5\n",
      "  copying pickle5\\pickletools.py -> build\\lib.win-amd64-3.8\\pickle5\n",
      "  copying pickle5\\__init__.py -> build\\lib.win-amd64-3.8\\pickle5\n",
      "  creating build\\lib.win-amd64-3.8\\pickle5\\test\n",
      "  copying pickle5\\test\\pickletester.py -> build\\lib.win-amd64-3.8\\pickle5\\test\n",
      "  copying pickle5\\test\\test_pickle.py -> build\\lib.win-amd64-3.8\\pickle5\\test\n",
      "  copying pickle5\\test\\test_picklebuffer.py -> build\\lib.win-amd64-3.8\\pickle5\\test\n",
      "  copying pickle5\\test\\__init__.py -> build\\lib.win-amd64-3.8\\pickle5\\test\n",
      "  running build_ext\n",
      "  building 'pickle5._pickle' extension\n",
      "  error: Microsoft Visual C++ 14.0 or greater is required. Get it with \"Microsoft C++ Build Tools\": https://visualstudio.microsoft.com/visual-cpp-build-tools/\n",
      "  ----------------------------------------\n",
      "  ERROR: Failed building wheel for pickle5\n",
      "    ERROR: Command errored out with exit status 1:\n",
      "     command: 'C:\\Users\\revan\\anaconda3\\python.exe' -u -c 'import sys, setuptools, tokenize; sys.argv[0] = '\"'\"'C:\\\\Users\\\\revan\\\\AppData\\\\Local\\\\Temp\\\\pip-install-yjbzrbnk\\\\pickle5_fb2e3d2a195442a2bd006e4885be4b97\\\\setup.py'\"'\"'; __file__='\"'\"'C:\\\\Users\\\\revan\\\\AppData\\\\Local\\\\Temp\\\\pip-install-yjbzrbnk\\\\pickle5_fb2e3d2a195442a2bd006e4885be4b97\\\\setup.py'\"'\"';f=getattr(tokenize, '\"'\"'open'\"'\"', open)(__file__);code=f.read().replace('\"'\"'\\r\\n'\"'\"', '\"'\"'\\n'\"'\"');f.close();exec(compile(code, __file__, '\"'\"'exec'\"'\"'))' install --record 'C:\\Users\\revan\\AppData\\Local\\Temp\\pip-record-95ts4b0k\\install-record.txt' --single-version-externally-managed --compile --install-headers 'C:\\Users\\revan\\anaconda3\\Include\\pickle5'\n",
      "         cwd: C:\\Users\\revan\\AppData\\Local\\Temp\\pip-install-yjbzrbnk\\pickle5_fb2e3d2a195442a2bd006e4885be4b97\\\n",
      "    Complete output (17 lines):\n",
      "    running install\n",
      "    running build\n",
      "    running build_py\n",
      "    creating build\n",
      "    creating build\\lib.win-amd64-3.8\n",
      "    creating build\\lib.win-amd64-3.8\\pickle5\n",
      "    copying pickle5\\pickle.py -> build\\lib.win-amd64-3.8\\pickle5\n",
      "    copying pickle5\\pickletools.py -> build\\lib.win-amd64-3.8\\pickle5\n",
      "    copying pickle5\\__init__.py -> build\\lib.win-amd64-3.8\\pickle5\n",
      "    creating build\\lib.win-amd64-3.8\\pickle5\\test\n",
      "    copying pickle5\\test\\pickletester.py -> build\\lib.win-amd64-3.8\\pickle5\\test\n",
      "    copying pickle5\\test\\test_pickle.py -> build\\lib.win-amd64-3.8\\pickle5\\test\n",
      "    copying pickle5\\test\\test_picklebuffer.py -> build\\lib.win-amd64-3.8\\pickle5\\test\n",
      "    copying pickle5\\test\\__init__.py -> build\\lib.win-amd64-3.8\\pickle5\\test\n",
      "    running build_ext\n",
      "    building 'pickle5._pickle' extension\n",
      "    error: Microsoft Visual C++ 14.0 or greater is required. Get it with \"Microsoft C++ Build Tools\": https://visualstudio.microsoft.com/visual-cpp-build-tools/\n",
      "    ----------------------------------------\n",
      "ERROR: Command errored out with exit status 1: 'C:\\Users\\revan\\anaconda3\\python.exe' -u -c 'import sys, setuptools, tokenize; sys.argv[0] = '\"'\"'C:\\\\Users\\\\revan\\\\AppData\\\\Local\\\\Temp\\\\pip-install-yjbzrbnk\\\\pickle5_fb2e3d2a195442a2bd006e4885be4b97\\\\setup.py'\"'\"'; __file__='\"'\"'C:\\\\Users\\\\revan\\\\AppData\\\\Local\\\\Temp\\\\pip-install-yjbzrbnk\\\\pickle5_fb2e3d2a195442a2bd006e4885be4b97\\\\setup.py'\"'\"';f=getattr(tokenize, '\"'\"'open'\"'\"', open)(__file__);code=f.read().replace('\"'\"'\\r\\n'\"'\"', '\"'\"'\\n'\"'\"');f.close();exec(compile(code, __file__, '\"'\"'exec'\"'\"'))' install --record 'C:\\Users\\revan\\AppData\\Local\\Temp\\pip-record-95ts4b0k\\install-record.txt' --single-version-externally-managed --compile --install-headers 'C:\\Users\\revan\\anaconda3\\Include\\pickle5' Check the logs for full command output.\n"
     ]
    }
   ],
   "source": [
    "pip install pickle5"
   ]
  }
 ],
 "metadata": {
  "kernelspec": {
   "display_name": "Python 3",
   "language": "python",
   "name": "python3"
  },
  "language_info": {
   "codemirror_mode": {
    "name": "ipython",
    "version": 3
   },
   "file_extension": ".py",
   "mimetype": "text/x-python",
   "name": "python",
   "nbconvert_exporter": "python",
   "pygments_lexer": "ipython3",
   "version": "3.8.8"
  },
  "widgets": {
   "application/vnd.jupyter.widget-state+json": {
    "state": {},
    "version_major": 2,
    "version_minor": 0
   }
  }
 },
 "nbformat": 4,
 "nbformat_minor": 5
}
